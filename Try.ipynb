{
 "cells": [
  {
   "cell_type": "code",
   "execution_count": 71,
   "metadata": {},
   "outputs": [],
   "source": [
    "from flask import Flask\n",
    "from flask import request, jsonify\n",
    "from keras.models import Sequential\n",
    "from flask_restful import Api, Resource, reqparse\n",
    "from keras.layers import Dense\n",
    "from keras.optimizers import Adam\n",
    "from sklearn.model_selection import train_test_split\n",
    "import keras\n",
    "import numpy as np\n",
    "import pandas as pd\n",
    "import seaborn as sns\n",
    "import matplotlib.pyplot as plt\n",
    "import tensorflow as tf\n",
    "import joblib\n",
    "import pickle\n",
    "import json\n",
    "from flask_restful import Resource"
   ]
  },
  {
   "cell_type": "code",
   "execution_count": 72,
   "metadata": {},
   "outputs": [
    {
     "name": "stdout",
     "output_type": "stream",
     "text": [
      "78644/78644 [==============================] - 41s 481us/step - loss: 1.0987 - accuracy: 0.3328\n"
     ]
    }
   ],
   "source": [
    "def model_f(X,Y):\n",
    "    \n",
    "    X_train, X_test, y_train, y_test = train_test_split(X, Y, test_size=0.2, random_state=0)\n",
    "    model = Sequential()\n",
    "    model.add(Dense(10, input_shape=(1,), activation='relu'))\n",
    "    model.add(Dense(8, activation='relu'))\n",
    "    model.add(Dense(6, activation='relu'))\n",
    "    model.add(Dense(3, activation='softmax'))\n",
    "    model.compile(Adam(lr=0.001), 'categorical_crossentropy', metrics=['accuracy'])\n",
    "    \n",
    "    model.fit(X_train, y_train, epochs=1)\n",
    "    \n",
    "    return model\n",
    "\n",
    "if  __name__ == '__main__':\n",
    "    \n",
    "    inner = pd.read_csv('Faulty_inner.csv')\n",
    "    outer = pd.read_csv('Faulty_outer.csv')\n",
    "    healthy = pd.read_csv('healthy.csv')\n",
    "    \n",
    "    pd.DataFrame(healthy)\n",
    "    pd.DataFrame(outer)\n",
    "    pd.DataFrame(inner)\n",
    "    \n",
    "    merge = pd.merge(inner, outer, how=\"outer\")\n",
    "    dataset = pd.merge(merge, healthy, how=\"outer\")\n",
    "    \n",
    "    X = dataset.Vibration\n",
    "    x_norm = (X - np.min(X))/(np.max(X)-np.min(X))\n",
    "    X = x_norm\n",
    "    \n",
    "    \n",
    "\n",
    "    Y = pd.get_dummies(dataset.Condition)\n",
    "    Y = Y.values\n",
    "    \n",
    "    mdl = model_f(X,Y)"
   ]
  },
  {
   "cell_type": "markdown",
   "metadata": {},
   "source": [
    "y_pred = mdl.predict(np.array([0.005]))\n",
    "y_pred"
   ]
  },
  {
   "cell_type": "code",
   "execution_count": 73,
   "metadata": {},
   "outputs": [],
   "source": [
    "mdl.save('my_model.h5')"
   ]
  },
  {
   "cell_type": "code",
   "execution_count": 74,
   "metadata": {
    "scrolled": true
   },
   "outputs": [],
   "source": [
    "model = keras.models.load_model('my_model.h5')"
   ]
  },
  {
   "cell_type": "markdown",
   "metadata": {},
   "source": [
    "name = 0.025\n",
    "name = np.array([name])\n",
    "y_pred = model.predict(name)\n",
    "y_new = np.argmax(y_pred)\n",
    "y_pred\n",
    "y_new"
   ]
  },
  {
   "cell_type": "code",
   "execution_count": null,
   "metadata": {},
   "outputs": [
    {
     "name": "stdout",
     "output_type": "stream",
     "text": [
      " * Serving Flask app \"__main__\" (lazy loading)\n",
      " * Environment: production\n",
      "   WARNING: This is a development server. Do not use it in a production deployment.\n",
      "   Use a production WSGI server instead.\n",
      " * Debug mode: off\n"
     ]
    },
    {
     "name": "stderr",
     "output_type": "stream",
     "text": [
      " * Running on http://127.0.0.1:8000/ (Press CTRL+C to quit)\n",
      "127.0.0.1 - - [30/Dec/2020 00:34:17] \"\u001b[37mGET / HTTP/1.1\u001b[0m\" 200 -\n"
     ]
    }
   ],
   "source": [
    "from flask import Flask, request\n",
    "\n",
    "\n",
    "app = Flask(__name__)\n",
    "\n",
    "\n",
    "@app.route('/', methods=['GET'])\n",
    "def main():\n",
    "     parser = reqparse.RequestParser()\n",
    "     parser.add_argument('data', type=float)\n",
    "     data = parser.parse_args()\n",
    "     \n",
    "    \n",
    "     x_new = np.fromiter(data.values(), dtype=float)\n",
    "     \n",
    "        \n",
    "        \n",
    "     y_pred = model.predict(x_new)\n",
    "     y_new = np.argmax(y_pred)\n",
    "        \n",
    "     if y_new == 0:\n",
    "        condition = 'Healthy'\n",
    "        return 'The Condition is {}'.format(condition)\n",
    "     \n",
    "     elif y_new == 1:\n",
    "          condition = 'Inner race Faulty'\n",
    "          return 'The Condition is {}'.format(condition)\n",
    "     \n",
    "     elif y_new == 2:\n",
    "          condition = 'Outer race Faulty'\n",
    "          return 'The Condition is {}'.format(condition)\n",
    "            \n",
    "\n",
    "if __name__ == '__main__':\n",
    "     app.run(host='127.0.0.1', port=8000)"
   ]
  },
  {
   "cell_type": "code",
   "execution_count": null,
   "metadata": {},
   "outputs": [],
   "source": []
  }
 ],
 "metadata": {
  "kernelspec": {
   "display_name": "Python 3",
   "language": "python",
   "name": "python3"
  },
  "language_info": {
   "codemirror_mode": {
    "name": "ipython",
    "version": 3
   },
   "file_extension": ".py",
   "mimetype": "text/x-python",
   "name": "python",
   "nbconvert_exporter": "python",
   "pygments_lexer": "ipython3",
   "version": "3.8.5"
  }
 },
 "nbformat": 4,
 "nbformat_minor": 4
}
